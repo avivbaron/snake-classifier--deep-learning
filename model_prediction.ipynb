{
  "nbformat": 4,
  "nbformat_minor": 0,
  "metadata": {
    "colab": {
      "name": "model_prediction.ipynb",
      "provenance": []
    },
    "kernelspec": {
      "name": "python3",
      "display_name": "Python 3"
    },
    "accelerator": "GPU"
  },
  "cells": [
    {
      "cell_type": "code",
      "metadata": {
        "id": "UWzjkped2RWJ",
        "colab_type": "code",
        "colab": {
          "base_uri": "https://localhost:8080/",
          "height": 34
        },
        "outputId": "907ff42e-6a8a-47f7-c515-1b662fd3f6f0"
      },
      "source": [
        "import tensorflow as tf\n",
        "\n",
        "import os\n",
        "import matplotlib.pyplot as plt\n",
        "import numpy as np\n",
        "import cv2\n",
        "import random\n",
        "from sklearn.metrics import confusion_matrix\n",
        "from seaborn import heatmap \n",
        "import keras\n",
        "from keras.layers import Dense, Flatten, Dropout\n",
        "from keras.applications import VGG16, vgg16\n",
        "from keras.optimizers import Adam\n",
        "from tensorflow.keras.models import load_model\n",
        "from keras.preprocessing.image import load_img\n",
        "from keras.preprocessing.image import ImageDataGenerator\n",
        "from sklearn.preprocessing import MinMaxScaler\n",
        "from tqdm import tqdm\n",
        "\n",
        "print(tf.__version__)"
      ],
      "execution_count": 13,
      "outputs": [
        {
          "output_type": "stream",
          "text": [
            "2.3.0\n"
          ],
          "name": "stdout"
        }
      ]
    },
    {
      "cell_type": "code",
      "metadata": {
        "id": "Ax0DVhLO2TRP",
        "colab_type": "code",
        "colab": {
          "base_uri": "https://localhost:8080/",
          "height": 87
        },
        "outputId": "0d344b9f-5499-4210-d27a-1e5e303b42ab"
      },
      "source": [
        "tf.test.is_gpu_available()"
      ],
      "execution_count": 2,
      "outputs": [
        {
          "output_type": "stream",
          "text": [
            "WARNING:tensorflow:From <ipython-input-2-17bb7203622b>:1: is_gpu_available (from tensorflow.python.framework.test_util) is deprecated and will be removed in a future version.\n",
            "Instructions for updating:\n",
            "Use `tf.config.list_physical_devices('GPU')` instead.\n"
          ],
          "name": "stdout"
        },
        {
          "output_type": "execute_result",
          "data": {
            "text/plain": [
              "True"
            ]
          },
          "metadata": {
            "tags": []
          },
          "execution_count": 2
        }
      ]
    },
    {
      "cell_type": "code",
      "metadata": {
        "id": "H7VG3-5QEjIo",
        "colab_type": "code",
        "colab": {
          "base_uri": "https://localhost:8080/",
          "height": 125
        },
        "outputId": "8d1252ff-3e0c-4f2d-ede0-59747a5c2e14"
      },
      "source": [
        "from google.colab import drive\n",
        "drive.mount('/content/drive')"
      ],
      "execution_count": 5,
      "outputs": [
        {
          "output_type": "stream",
          "text": [
            "Go to this URL in a browser: https://accounts.google.com/o/oauth2/auth?client_id=947318989803-6bn6qk8qdgf4n4g3pfee6491hc0brc4i.apps.googleusercontent.com&redirect_uri=urn%3aietf%3awg%3aoauth%3a2.0%3aoob&scope=email%20https%3a%2f%2fwww.googleapis.com%2fauth%2fdocs.test%20https%3a%2f%2fwww.googleapis.com%2fauth%2fdrive%20https%3a%2f%2fwww.googleapis.com%2fauth%2fdrive.photos.readonly%20https%3a%2f%2fwww.googleapis.com%2fauth%2fpeopleapi.readonly&response_type=code\n",
            "\n",
            "Enter your authorization code:\n",
            "··········\n",
            "Mounted at /content/drive\n"
          ],
          "name": "stdout"
        }
      ]
    },
    {
      "cell_type": "code",
      "metadata": {
        "id": "x1Qlu3yyGb3n",
        "colab_type": "code",
        "colab": {}
      },
      "source": [
        "scalar = MinMaxScaler()"
      ],
      "execution_count": 14,
      "outputs": []
    },
    {
      "cell_type": "code",
      "metadata": {
        "id": "seS-DOw32U6P",
        "colab_type": "code",
        "colab": {}
      },
      "source": [
        "tf.compat.v1.disable_eager_execution()\n",
        "model_path = os.path.join('/content/drive/My Drive/snakes/trainedmodel',  'trained_VGG_modelPC2.h5')\n",
        "snakes_model = load_model(model_path)"
      ],
      "execution_count": 6,
      "outputs": []
    },
    {
      "cell_type": "code",
      "metadata": {
        "id": "W6Xo5oMZ26DR",
        "colab_type": "code",
        "colab": {}
      },
      "source": [
        "CATEGORIES = [\"Banded Racer\", \"Checkered Keelback\", \"Common Krait\", \"Common Rat Snake\", \"Common Sand Boa\", \"Common Trinket\", \"Green Tree Vine\", \"Indian Rock Python\", \"King Cobra\", \"Monocled Cobra\", \"Russell's Viper\", \"Saw-scaled Viper\", \"Spectacled Cobra\"]"
      ],
      "execution_count": 7,
      "outputs": []
    },
    {
      "cell_type": "code",
      "metadata": {
        "id": "WA8l8OqY3NtK",
        "colab_type": "code",
        "colab": {
          "base_uri": "https://localhost:8080/",
          "height": 52
        },
        "outputId": "1996368a-b94c-49a2-b6ea-90f817e256fb"
      },
      "source": [
        "img = cv2.imread('/content/monocled-cobra.jpg')\n",
        "img = np.reshape(img,[1,224,224,3])\n",
        "prediction = snakes_model.predict_classes(img)\n",
        "if (prediction[0] > 6):\n",
        "  venomous = 'Venomous = TRUE'\n",
        "else:\n",
        "  venomous = 'Venomous = FALSE'\n",
        "snake_type = CATEGORIES[prediction[0]]\n",
        "\n",
        "print(snake_type + '\\n' + venomous)"
      ],
      "execution_count": 26,
      "outputs": [
        {
          "output_type": "stream",
          "text": [
            "Monocled Cobra\n",
            "Venomous = TRUE\n"
          ],
          "name": "stdout"
        }
      ]
    },
    {
      "cell_type": "code",
      "metadata": {
        "id": "HJHbIiLkEzMf",
        "colab_type": "code",
        "colab": {
          "base_uri": "https://localhost:8080/",
          "height": 52
        },
        "outputId": "8a5b024a-05c3-49b8-f8e7-b5f8d603132a"
      },
      "source": [
        "img = cv2.imread('/content/russels-viper.jpg')\n",
        "img = np.reshape(img,[1,224,224,3])\n",
        "prediction = snakes_model.predict_classes(img)\n",
        "if (prediction[0] > 6):\n",
        "  venomous = 'Venomous = TRUE'\n",
        "else:\n",
        "  venomous = 'Venomous = FALSE'\n",
        "snake_type = CATEGORIES[prediction[0]]\n",
        "\n",
        "print(snake_type + '\\n' + venomous)"
      ],
      "execution_count": 27,
      "outputs": [
        {
          "output_type": "stream",
          "text": [
            "Russell's Viper\n",
            "Venomous = TRUE\n"
          ],
          "name": "stdout"
        }
      ]
    },
    {
      "cell_type": "code",
      "metadata": {
        "id": "xvTpY2kiIZBq",
        "colab_type": "code",
        "colab": {
          "base_uri": "https://localhost:8080/",
          "height": 52
        },
        "outputId": "1343fc6d-7bc8-41e0-e7e7-3d7ce4d6b02f"
      },
      "source": [
        "img = cv2.imread('/content/common-rat-snake.png')\n",
        "img = np.reshape(img,[1,224,224,3])\n",
        "prediction = snakes_model.predict_classes(img)\n",
        "if (prediction[0] > 6):\n",
        "  venomous = 'Venomous = TRUE'\n",
        "else:\n",
        "  venomous = 'Venomous = FALSE'\n",
        "snake_type = CATEGORIES[prediction[0]]\n",
        "\n",
        "print(snake_type + '\\n' + venomous)"
      ],
      "execution_count": 28,
      "outputs": [
        {
          "output_type": "stream",
          "text": [
            "Common Rat Snake\n",
            "Venomous = FALSE\n"
          ],
          "name": "stdout"
        }
      ]
    },
    {
      "cell_type": "code",
      "metadata": {
        "id": "vKYEkVaCIqtI",
        "colab_type": "code",
        "colab": {
          "base_uri": "https://localhost:8080/",
          "height": 52
        },
        "outputId": "5c33c33a-b97b-4fc1-d6b4-a5edea4c1589"
      },
      "source": [
        "img = cv2.imread('/content/Banded_Racer.jpg')\n",
        "img = np.reshape(img,[1,224,224,3])\n",
        "prediction = snakes_model.predict_classes(img)\n",
        "if (prediction[0] > 6):\n",
        "  venomous = 'Venomous = TRUE'\n",
        "else:\n",
        "  venomous = 'Venomous = FALSE'\n",
        "snake_type = CATEGORIES[prediction[0]]\n",
        "\n",
        "print(snake_type + '\\n' + venomous)"
      ],
      "execution_count": 31,
      "outputs": [
        {
          "output_type": "stream",
          "text": [
            "Banded Racer\n",
            "Venomous = FALSE\n"
          ],
          "name": "stdout"
        }
      ]
    },
    {
      "cell_type": "code",
      "metadata": {
        "id": "0S_bE8hcJAM5",
        "colab_type": "code",
        "colab": {}
      },
      "source": [
        ""
      ],
      "execution_count": null,
      "outputs": []
    }
  ]
}