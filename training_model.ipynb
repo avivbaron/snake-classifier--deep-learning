{
  "nbformat": 4,
  "nbformat_minor": 0,
  "metadata": {
    "kernelspec": {
      "display_name": "Python 3",
      "language": "python",
      "name": "python3"
    },
    "language_info": {
      "codemirror_mode": {
        "name": "ipython",
        "version": 3
      },
      "file_extension": ".py",
      "mimetype": "text/x-python",
      "name": "python",
      "nbconvert_exporter": "python",
      "pygments_lexer": "ipython3",
      "version": "3.7.6"
    },
    "colab": {
      "name": "Copy of Copy of Copy of Copy of Copy of dnn_ex11.ipynb",
      "provenance": [],
      "collapsed_sections": [],
      "toc_visible": true,
      "machine_shape": "hm"
    },
    "accelerator": "GPU"
  },
  "cells": [
    {
      "cell_type": "markdown",
      "metadata": {
        "id": "ym0Nx_y-N27A",
        "colab_type": "text"
      },
      "source": [
        "# Deep Learning: Project - Venomous/Non-Venomous Snake Detector\n",
        "\n",
        "Submitted by: [... **Aviv Bar-on** ...]\n"
      ]
    },
    {
      "cell_type": "code",
      "metadata": {
        "id": "8C4pG3sJN27C",
        "colab_type": "code",
        "colab": {
          "base_uri": "https://localhost:8080/",
          "height": 70
        },
        "outputId": "9c2c8007-c574-45a7-b077-9bfeadf31a40"
      },
      "source": [
        "import tensorflow as tf\n",
        "\n",
        "import os\n",
        "import matplotlib.pyplot as plt\n",
        "import numpy as np\n",
        "import cv2\n",
        "import random\n",
        "from sklearn.metrics import confusion_matrix\n",
        "from seaborn import heatmap \n",
        "import keras\n",
        "from keras.layers import Dense, Flatten, Dropout\n",
        "from keras.applications import VGG16, vgg16\n",
        "from keras.optimizers import Adam\n",
        "from tensorflow.keras.models import load_model\n",
        "from keras.preprocessing.image import load_img\n",
        "from keras.preprocessing.image import ImageDataGenerator\n",
        "from tqdm import tqdm\n",
        "\n",
        "print(tf.__version__)"
      ],
      "execution_count": 1,
      "outputs": [
        {
          "output_type": "stream",
          "text": [
            "2.3.0\n"
          ],
          "name": "stdout"
        },
        {
          "output_type": "stream",
          "text": [
            "/usr/local/lib/python3.6/dist-packages/statsmodels/tools/_testing.py:19: FutureWarning: pandas.util.testing is deprecated. Use the functions in the public API at pandas.testing instead.\n",
            "  import pandas.util.testing as tm\n"
          ],
          "name": "stderr"
        }
      ]
    },
    {
      "cell_type": "code",
      "metadata": {
        "id": "s7j99MI0dAY5",
        "colab_type": "code",
        "colab": {
          "base_uri": "https://localhost:8080/",
          "height": 87
        },
        "outputId": "e90c8aaa-3243-41d4-9621-8ee9f4faacd2"
      },
      "source": [
        "tf.test.is_gpu_available()"
      ],
      "execution_count": 2,
      "outputs": [
        {
          "output_type": "stream",
          "text": [
            "WARNING:tensorflow:From <ipython-input-2-17bb7203622b>:1: is_gpu_available (from tensorflow.python.framework.test_util) is deprecated and will be removed in a future version.\n",
            "Instructions for updating:\n",
            "Use `tf.config.list_physical_devices('GPU')` instead.\n"
          ],
          "name": "stdout"
        },
        {
          "output_type": "execute_result",
          "data": {
            "text/plain": [
              "True"
            ]
          },
          "metadata": {
            "tags": []
          },
          "execution_count": 2
        }
      ]
    },
    {
      "cell_type": "code",
      "metadata": {
        "id": "vD2e2GhIhsyt",
        "colab_type": "code",
        "colab": {
          "base_uri": "https://localhost:8080/",
          "height": 34
        },
        "outputId": "a43dfda7-348f-43e5-806b-40e92f8bd70a"
      },
      "source": [
        "from google.colab import drive\n",
        "drive.mount('/content/drive')"
      ],
      "execution_count": 3,
      "outputs": [
        {
          "output_type": "stream",
          "text": [
            "Drive already mounted at /content/drive; to attempt to forcibly remount, call drive.mount(\"/content/drive\", force_remount=True).\n"
          ],
          "name": "stdout"
        }
      ]
    },
    {
      "cell_type": "markdown",
      "metadata": {
        "colab_type": "text",
        "id": "jU3iI7MYiN_C"
      },
      "source": [
        "## **Initialize:**\n",
        "Initialize the VGG16 model with adapted find-tuning"
      ]
    },
    {
      "cell_type": "code",
      "metadata": {
        "id": "JB0idJR6N27N",
        "colab_type": "code",
        "colab": {}
      },
      "source": [
        "tf.compat.v1.disable_eager_execution()\n",
        "\n",
        "#initialize the model\n",
        "vgg_model = vgg16.VGG16(weights='imagenet', include_top=False, input_shape=(224, 224, 3))"
      ],
      "execution_count": 4,
      "outputs": []
    },
    {
      "cell_type": "code",
      "metadata": {
        "id": "MA6dNohnt4Rw",
        "colab_type": "code",
        "colab": {
          "base_uri": "https://localhost:8080/",
          "height": 354
        },
        "outputId": "d636a206-b147-4c32-e307-ac984a6c1d20"
      },
      "source": [
        "# Freeze all the layers\n",
        "for layer in vgg_model.layers[:]:\n",
        "    layer.trainable = False\n",
        "\n",
        "# Check the trainable status of the individual layers\n",
        "for layer in vgg_model.layers:\n",
        "    print(layer, layer.trainable)"
      ],
      "execution_count": 5,
      "outputs": [
        {
          "output_type": "stream",
          "text": [
            "<tensorflow.python.keras.engine.input_layer.InputLayer object at 0x7fa78b5f6b38> False\n",
            "<tensorflow.python.keras.layers.convolutional.Conv2D object at 0x7fa77b089438> False\n",
            "<tensorflow.python.keras.layers.convolutional.Conv2D object at 0x7fa77b089978> False\n",
            "<tensorflow.python.keras.layers.pooling.MaxPooling2D object at 0x7fa77aff6908> False\n",
            "<tensorflow.python.keras.layers.convolutional.Conv2D object at 0x7fa77b06ab38> False\n",
            "<tensorflow.python.keras.layers.convolutional.Conv2D object at 0x7fa77affb588> False\n",
            "<tensorflow.python.keras.layers.pooling.MaxPooling2D object at 0x7fa77b009550> False\n",
            "<tensorflow.python.keras.layers.convolutional.Conv2D object at 0x7fa77b009a20> False\n",
            "<tensorflow.python.keras.layers.convolutional.Conv2D object at 0x7fa77b015550> False\n",
            "<tensorflow.python.keras.layers.convolutional.Conv2D object at 0x7fa77b024320> False\n",
            "<tensorflow.python.keras.layers.pooling.MaxPooling2D object at 0x7fa77afb2080> False\n",
            "<tensorflow.python.keras.layers.convolutional.Conv2D object at 0x7fa77afb2550> False\n",
            "<tensorflow.python.keras.layers.convolutional.Conv2D object at 0x7fa77afb8f98> False\n",
            "<tensorflow.python.keras.layers.convolutional.Conv2D object at 0x7fa77afc7e10> False\n",
            "<tensorflow.python.keras.layers.pooling.MaxPooling2D object at 0x7fa77afd2b70> False\n",
            "<tensorflow.python.keras.layers.convolutional.Conv2D object at 0x7fa77afd2fd0> False\n",
            "<tensorflow.python.keras.layers.convolutional.Conv2D object at 0x7fa77afdeb70> False\n",
            "<tensorflow.python.keras.layers.convolutional.Conv2D object at 0x7fa77af6d668> False\n",
            "<tensorflow.python.keras.layers.pooling.MaxPooling2D object at 0x7fa77af7b6a0> False\n"
          ],
          "name": "stdout"
        }
      ]
    },
    {
      "cell_type": "code",
      "metadata": {
        "id": "xEYS5l29Okld",
        "colab_type": "code",
        "colab": {
          "base_uri": "https://localhost:8080/",
          "height": 834
        },
        "outputId": "5a53120c-ec18-4b9d-e7a2-a2ee1c61bae8"
      },
      "source": [
        "vgg_model.summary()"
      ],
      "execution_count": 6,
      "outputs": [
        {
          "output_type": "stream",
          "text": [
            "Model: \"vgg16\"\n",
            "_________________________________________________________________\n",
            "Layer (type)                 Output Shape              Param #   \n",
            "=================================================================\n",
            "input_1 (InputLayer)         [(None, 224, 224, 3)]     0         \n",
            "_________________________________________________________________\n",
            "block1_conv1 (Conv2D)        (None, 224, 224, 64)      1792      \n",
            "_________________________________________________________________\n",
            "block1_conv2 (Conv2D)        (None, 224, 224, 64)      36928     \n",
            "_________________________________________________________________\n",
            "block1_pool (MaxPooling2D)   (None, 112, 112, 64)      0         \n",
            "_________________________________________________________________\n",
            "block2_conv1 (Conv2D)        (None, 112, 112, 128)     73856     \n",
            "_________________________________________________________________\n",
            "block2_conv2 (Conv2D)        (None, 112, 112, 128)     147584    \n",
            "_________________________________________________________________\n",
            "block2_pool (MaxPooling2D)   (None, 56, 56, 128)       0         \n",
            "_________________________________________________________________\n",
            "block3_conv1 (Conv2D)        (None, 56, 56, 256)       295168    \n",
            "_________________________________________________________________\n",
            "block3_conv2 (Conv2D)        (None, 56, 56, 256)       590080    \n",
            "_________________________________________________________________\n",
            "block3_conv3 (Conv2D)        (None, 56, 56, 256)       590080    \n",
            "_________________________________________________________________\n",
            "block3_pool (MaxPooling2D)   (None, 28, 28, 256)       0         \n",
            "_________________________________________________________________\n",
            "block4_conv1 (Conv2D)        (None, 28, 28, 512)       1180160   \n",
            "_________________________________________________________________\n",
            "block4_conv2 (Conv2D)        (None, 28, 28, 512)       2359808   \n",
            "_________________________________________________________________\n",
            "block4_conv3 (Conv2D)        (None, 28, 28, 512)       2359808   \n",
            "_________________________________________________________________\n",
            "block4_pool (MaxPooling2D)   (None, 14, 14, 512)       0         \n",
            "_________________________________________________________________\n",
            "block5_conv1 (Conv2D)        (None, 14, 14, 512)       2359808   \n",
            "_________________________________________________________________\n",
            "block5_conv2 (Conv2D)        (None, 14, 14, 512)       2359808   \n",
            "_________________________________________________________________\n",
            "block5_conv3 (Conv2D)        (None, 14, 14, 512)       2359808   \n",
            "_________________________________________________________________\n",
            "block5_pool (MaxPooling2D)   (None, 7, 7, 512)         0         \n",
            "=================================================================\n",
            "Total params: 14,714,688\n",
            "Trainable params: 0\n",
            "Non-trainable params: 14,714,688\n",
            "_________________________________________________________________\n"
          ],
          "name": "stdout"
        }
      ]
    },
    {
      "cell_type": "code",
      "metadata": {
        "id": "kfdF_REQOy5U",
        "colab_type": "code",
        "colab": {
          "base_uri": "https://localhost:8080/",
          "height": 478
        },
        "outputId": "7a1824ba-1036-4060-b69b-02577ff9cd08"
      },
      "source": [
        "model = keras.Sequential()\n",
        "\n",
        "# Add the vgg base model\n",
        "model.add(vgg_model)\n",
        "\n",
        "# Add new layers\n",
        "model.add(Flatten())\n",
        "model.add(Dense(1024, activation='sigmoid')) # non-linear activition gave better results\n",
        "model.add(Dropout(0.6))\n",
        "model.add(Dense(1024, activation='sigmoid')) # non-linear activition gave better results\n",
        "model.add(Dropout(0.6))\n",
        "model.add(Dense(1024, activation='sigmoid')) # non-linear activition gave better results\n",
        "model.add(Dropout(0.5))\n",
        "# model.add(Dense(256, activation='sigmoid')) # non-linear activition gave better results\n",
        "# model.add(Dropout(0.7))\n",
        "model.add(Dense(13, activation='softmax'))\n",
        "\n",
        "# Show the model summary after adding last layers\n",
        "model.summary()"
      ],
      "execution_count": 7,
      "outputs": [
        {
          "output_type": "stream",
          "text": [
            "Model: \"sequential\"\n",
            "_________________________________________________________________\n",
            "Layer (type)                 Output Shape              Param #   \n",
            "=================================================================\n",
            "vgg16 (Functional)           (None, 7, 7, 512)         14714688  \n",
            "_________________________________________________________________\n",
            "flatten (Flatten)            (None, 25088)             0         \n",
            "_________________________________________________________________\n",
            "dense (Dense)                (None, 1024)              25691136  \n",
            "_________________________________________________________________\n",
            "dropout (Dropout)            (None, 1024)              0         \n",
            "_________________________________________________________________\n",
            "dense_1 (Dense)              (None, 1024)              1049600   \n",
            "_________________________________________________________________\n",
            "dropout_1 (Dropout)          (None, 1024)              0         \n",
            "_________________________________________________________________\n",
            "dense_2 (Dense)              (None, 1024)              1049600   \n",
            "_________________________________________________________________\n",
            "dropout_2 (Dropout)          (None, 1024)              0         \n",
            "_________________________________________________________________\n",
            "dense_3 (Dense)              (None, 13)                13325     \n",
            "=================================================================\n",
            "Total params: 42,518,349\n",
            "Trainable params: 27,803,661\n",
            "Non-trainable params: 14,714,688\n",
            "_________________________________________________________________\n"
          ],
          "name": "stdout"
        }
      ]
    },
    {
      "cell_type": "markdown",
      "metadata": {
        "id": "uQ0NCIAtN27L",
        "colab_type": "text"
      },
      "source": [
        "## **Data Processing:**\n",
        "Loading training and validation data"
      ]
    },
    {
      "cell_type": "code",
      "metadata": {
        "id": "JuRUH9b5XCa3",
        "colab_type": "code",
        "colab": {}
      },
      "source": [
        "train_dir = \"/content/drive/My Drive/snakes/finaldata/train\"\n",
        "\n",
        "test_dir = \"/content/drive/My Drive/snakes/finaldata/test\"\n",
        "\n",
        "data_dir = \"/content/drive/My Drive/snakes/finaldata/224\"\n",
        "\n",
        "classes2 = \"/content/drive/My Drive/snakes/finaldata/2classes\"\n",
        "\n",
        "CATEGORIES = [\"Banded Racer\", \"Checkered Keelback\", \"Common Krait\", \"Common Rat Snake\", \"Common Sand Boa\", \"Common Trinket\", \"Green Tree Vine\", \"Indian Rock Python\", \"King Cobra\", \"Monocled Cobra\", \"Russell's Viper\", \"Saw-scaled Viper\", \"Spectacled Cobra\"]\n",
        "\n",
        "IMG_SIZE = 224"
      ],
      "execution_count": 8,
      "outputs": []
    },
    {
      "cell_type": "markdown",
      "metadata": {
        "id": "pnGMw8_rqdID",
        "colab_type": "text"
      },
      "source": [
        "# Process Data Without Augmentation"
      ]
    },
    {
      "cell_type": "code",
      "metadata": {
        "id": "8kndm44IUxzJ",
        "colab_type": "code",
        "colab": {
          "base_uri": "https://localhost:8080/",
          "height": 265
        },
        "outputId": "ea5c0d98-1d61-4d81-fd94-4c7cafe754f4"
      },
      "source": [
        "training_data = []\n",
        "\n",
        "def create_training_data():\n",
        "    for category in CATEGORIES:\n",
        "\n",
        "        path = os.path.join(train_dir,category)  # create path to snakes photos\n",
        "        class_num = CATEGORIES.index(category)  # get the classification (0-12)\n",
        "\n",
        "        for img in tqdm(os.listdir(path)):  # iterate over each image per snake\n",
        "            try:\n",
        "                img_array = cv2.imread(os.path.join(path,img) ,cv2.IMREAD_COLOR)  # convert to array\n",
        "                new_array = cv2.resize(img_array, (IMG_SIZE, IMG_SIZE))  # resize to normalize data size\n",
        "                training_data.append([new_array, class_num])  # add this to our training_data\n",
        "            except Exception as e:  # in the interest in keeping the output clean...\n",
        "                pass\n",
        "\n",
        "create_training_data()\n",
        "\n",
        "print(len(training_data))"
      ],
      "execution_count": 9,
      "outputs": [
        {
          "output_type": "stream",
          "text": [
            "100%|██████████| 25/25 [00:00<00:00, 257.05it/s]\n",
            "100%|██████████| 125/125 [00:00<00:00, 252.33it/s]\n",
            "100%|██████████| 110/110 [00:00<00:00, 253.80it/s]\n",
            "100%|██████████| 120/120 [00:00<00:00, 256.50it/s]\n",
            "100%|██████████| 55/55 [00:00<00:00, 256.80it/s]\n",
            "100%|██████████| 40/40 [00:00<00:00, 400.70it/s]\n",
            "100%|██████████| 15/15 [00:00<00:00, 271.56it/s]\n",
            "100%|██████████| 120/120 [00:00<00:00, 244.58it/s]\n",
            "100%|██████████| 120/120 [00:00<00:00, 372.66it/s]\n",
            "100%|██████████| 135/135 [00:00<00:00, 262.02it/s]\n",
            "100%|██████████| 190/190 [00:00<00:00, 365.70it/s]\n",
            "100%|██████████| 200/200 [00:00<00:00, 252.28it/s]\n",
            "100%|██████████| 210/210 [00:00<00:00, 366.76it/s]"
          ],
          "name": "stderr"
        },
        {
          "output_type": "stream",
          "text": [
            "1463\n"
          ],
          "name": "stdout"
        },
        {
          "output_type": "stream",
          "text": [
            "\n"
          ],
          "name": "stderr"
        }
      ]
    },
    {
      "cell_type": "code",
      "metadata": {
        "id": "3btLVG7EVaaj",
        "colab_type": "code",
        "colab": {
          "base_uri": "https://localhost:8080/",
          "height": 265
        },
        "outputId": "9ca9c4f2-fe54-4a61-83b0-19fd0837b651"
      },
      "source": [
        "test_data = []\n",
        "\n",
        "def create_test_data():\n",
        "    for category in CATEGORIES:\n",
        "\n",
        "        path = os.path.join(test_dir,category)  # create path to snakes photos\n",
        "        class_num = CATEGORIES.index(category)  # get the classification (0-12)\n",
        "\n",
        "        for img in tqdm(os.listdir(path)):  # iterate over each image per snake\n",
        "            try:\n",
        "                img_array = cv2.imread(os.path.join(path,img) ,cv2.IMREAD_COLOR)  # convert to array\n",
        "                new_array = cv2.resize(img_array, (IMG_SIZE, IMG_SIZE))  # resize to normalize data size\n",
        "                test_data.append([new_array, class_num])  # add this to our test_data\n",
        "            except Exception as e:  # in the interest in keeping the output clean...\n",
        "                pass\n",
        "\n",
        "create_test_data()\n",
        "\n",
        "print(len(test_data))"
      ],
      "execution_count": 10,
      "outputs": [
        {
          "output_type": "stream",
          "text": [
            "100%|██████████| 11/11 [00:00<00:00, 260.83it/s]\n",
            "100%|██████████| 29/29 [00:00<00:00, 277.62it/s]\n",
            "100%|██████████| 20/20 [00:00<00:00, 248.97it/s]\n",
            "100%|██████████| 29/29 [00:00<00:00, 247.36it/s]\n",
            "100%|██████████| 14/14 [00:00<00:00, 247.26it/s]\n",
            "100%|██████████| 13/13 [00:00<00:00, 346.68it/s]\n",
            "100%|██████████| 7/7 [00:00<00:00, 264.12it/s]\n",
            "100%|██████████| 26/26 [00:00<00:00, 236.30it/s]\n",
            "100%|██████████| 19/19 [00:00<00:00, 396.92it/s]\n",
            "100%|██████████| 18/18 [00:00<00:00, 253.42it/s]\n",
            "100%|██████████| 44/44 [00:00<00:00, 368.64it/s]\n",
            "100%|██████████| 41/41 [00:00<00:00, 239.06it/s]\n",
            "100%|██████████| 42/42 [00:00<00:00, 357.04it/s]"
          ],
          "name": "stderr"
        },
        {
          "output_type": "stream",
          "text": [
            "312\n"
          ],
          "name": "stdout"
        },
        {
          "output_type": "stream",
          "text": [
            "\n"
          ],
          "name": "stderr"
        }
      ]
    },
    {
      "cell_type": "code",
      "metadata": {
        "id": "IO_Rk7TvVFVo",
        "colab_type": "code",
        "colab": {}
      },
      "source": [
        "random.shuffle(training_data)\n",
        "random.shuffle(test_data)\n",
        "\n",
        "# #split the data to images and classes number\n",
        "\n",
        "X_train = []\n",
        "Y_train = []\n",
        "\n",
        "X_test = []\n",
        "Y_test = []\n",
        "\n",
        "for features,label in training_data:\n",
        "    X_train.append(features)\n",
        "    Y_train.append(label)\n",
        "\n",
        "for features,label in test_data:\n",
        "    X_test.append(features)\n",
        "    Y_test.append(label)\n",
        "\n",
        "#Y_train = np.array(Y_train)\n",
        "#Y_test = np.array(Y_test)\n",
        "\n",
        "X_train = np.asarray(X_train).reshape(-1, IMG_SIZE, IMG_SIZE, 3)\n",
        "X_test = np.asarray(X_test).reshape(-1, IMG_SIZE, IMG_SIZE, 3)"
      ],
      "execution_count": 11,
      "outputs": []
    },
    {
      "cell_type": "markdown",
      "metadata": {
        "id": "xOd8rvOXqnOR",
        "colab_type": "text"
      },
      "source": [
        "## Process Data with Augmentation"
      ]
    },
    {
      "cell_type": "code",
      "metadata": {
        "id": "MNmG78lIE-3Z",
        "colab_type": "code",
        "colab": {}
      },
      "source": [
        "# First Augmentation Try\n",
        "\n",
        "# batch_size = 64\n",
        "\n",
        "# # prepare data augmentation configuration\n",
        "# train_datagen = ImageDataGenerator(\n",
        "#                 rescale = 1./255,\n",
        "#                 rotation_range=40,\n",
        "#                 shear_range=0.2,\n",
        "#                 zoom_range=0.2,\n",
        "#                 horizontal_flip=True)\n",
        "\n",
        "# test_datagen = ImageDataGenerator(rescale=1./255)\n",
        "\n",
        "# train_generator = train_datagen.flow_from_directory(\n",
        "#         train_dir,\n",
        "#         target_size=(IMG_SIZE, IMG_SIZE),\n",
        "#         batch_size=256,\n",
        "#         class_mode='sparse')\n",
        "\n",
        "# validation_generator = test_datagen.flow_from_directory(\n",
        "#         test_dir,\n",
        "#         target_size=(IMG_SIZE, IMG_SIZE),\n",
        "#         batch_size=256,\n",
        "#         class_mode='sparse')\n",
        "\n",
        "# # nb_train_samples = X_train.shape[0]\n",
        "# # nb_validation_samples = X_test.shape[0]"
      ],
      "execution_count": 12,
      "outputs": []
    },
    {
      "cell_type": "code",
      "metadata": {
        "id": "I_x6DFVX-jJB",
        "colab_type": "code",
        "colab": {}
      },
      "source": [
        "# # Second Augmentation Try\n",
        "\n",
        "# batch_size = 64\n",
        "\n",
        "# train_datagen = ImageDataGenerator(rescale=1./255,\n",
        "#     shear_range=0.2,\n",
        "#     zoom_range=0.2,\n",
        "#     horizontal_flip=True,\n",
        "#     validation_split=0.2) # set validation split\n",
        "\n",
        "# train_generator = train_datagen.flow_from_directory(\n",
        "#     data_dir,\n",
        "#     target_size=(IMG_SIZE, IMG_SIZE),\n",
        "#     batch_size=batch_size,\n",
        "#     class_mode='sparse',\n",
        "#     subset='training') # set as training data\n",
        "\n",
        "# validation_generator = train_datagen.flow_from_directory(\n",
        "#     data_dir, # same directory as training data\n",
        "#     target_size=(IMG_SIZE, IMG_SIZE),\n",
        "#     batch_size=batch_size,\n",
        "#     class_mode='sparse',\n",
        "#     subset='validation')"
      ],
      "execution_count": 13,
      "outputs": []
    },
    {
      "cell_type": "markdown",
      "metadata": {
        "colab_type": "text",
        "id": "PbnkTSBMFbAk"
      },
      "source": [
        "## **Compiling the model:**\n",
        "compile and train the model"
      ]
    },
    {
      "cell_type": "code",
      "metadata": {
        "id": "OxL2ymF_f1ht",
        "colab_type": "code",
        "colab": {}
      },
      "source": [
        "# # initialize the model and optimizers\n",
        "# opt = Adam(lr=0.0006, beta_1=0.9, beta_2=0.999, epsilon=1e-08)\n",
        "\n",
        "# # compile the model with loss function, optimizer and the evaluating metrics\n",
        "# model.compile(loss='sparse_categorical_crossentropy', optimizer=opt, metrics=['accuracy'])"
      ],
      "execution_count": 14,
      "outputs": []
    },
    {
      "cell_type": "markdown",
      "metadata": {
        "id": "mexDqPYjqxAu",
        "colab_type": "text"
      },
      "source": [
        "Fit the model based on generator dataset"
      ]
    },
    {
      "cell_type": "code",
      "metadata": {
        "id": "NzGrIJ4JkP7_",
        "colab_type": "code",
        "colab": {}
      },
      "source": [
        "# history = model.fit(train_generator,                     \n",
        "#           validation_data=validation_generator,\n",
        "#           steps_per_epoch=100,\n",
        "#           epochs=50,\n",
        "#           validation_steps=50)"
      ],
      "execution_count": 15,
      "outputs": []
    },
    {
      "cell_type": "markdown",
      "metadata": {
        "id": "uvsOHEpYq57y",
        "colab_type": "text"
      },
      "source": [
        "Fit the model based on self-processed dataset"
      ]
    },
    {
      "cell_type": "code",
      "metadata": {
        "id": "jj7T9ioTf3Dh",
        "colab_type": "code",
        "colab": {
          "base_uri": "https://localhost:8080/",
          "height": 1000
        },
        "outputId": "244af564-9e74-4052-c9b3-797504be46c1"
      },
      "source": [
        "# initialize the model and optimizers\n",
        "opt = Adam(lr=0.0001, beta_1=0.9, beta_2=0.999, epsilon=1e-08)\n",
        "model.compile(loss='sparse_categorical_crossentropy', optimizer=opt, metrics=['accuracy'])\n",
        "\n",
        "#train the network\n",
        "history = model.fit(X_train, Y_train,\n",
        "          batch_size=16, epochs=50,\n",
        "          validation_data=(X_test, Y_test))"
      ],
      "execution_count": 16,
      "outputs": [
        {
          "output_type": "stream",
          "text": [
            "Train on 1463 samples, validate on 312 samples\n",
            "Epoch 1/50\n",
            "1463/1463 [==============================] - ETA: 0s - loss: 2.6478 - accuracy: 0.1258WARNING:tensorflow:From /usr/local/lib/python3.6/dist-packages/tensorflow/python/keras/engine/training_v1.py:2048: Model.state_updates (from tensorflow.python.keras.engine.training) is deprecated and will be removed in a future version.\n",
            "Instructions for updating:\n",
            "This property should not be used in TensorFlow 2.0, as updates are applied automatically.\n",
            "1463/1463 [==============================] - 5s 3ms/sample - loss: 2.6478 - accuracy: 0.1258 - val_loss: 2.4526 - val_accuracy: 0.1923\n",
            "Epoch 2/50\n",
            "1463/1463 [==============================] - 4s 3ms/sample - loss: 2.5156 - accuracy: 0.1524 - val_loss: 2.2971 - val_accuracy: 0.3205\n",
            "Epoch 3/50\n",
            "1463/1463 [==============================] - 4s 3ms/sample - loss: 2.3036 - accuracy: 0.2256 - val_loss: 2.1186 - val_accuracy: 0.3173\n",
            "Epoch 4/50\n",
            "1463/1463 [==============================] - 4s 3ms/sample - loss: 2.0867 - accuracy: 0.3055 - val_loss: 1.9876 - val_accuracy: 0.3686\n",
            "Epoch 5/50\n",
            "1463/1463 [==============================] - 4s 3ms/sample - loss: 1.9400 - accuracy: 0.3281 - val_loss: 1.8633 - val_accuracy: 0.4103\n",
            "Epoch 6/50\n",
            "1463/1463 [==============================] - 4s 3ms/sample - loss: 1.7926 - accuracy: 0.3821 - val_loss: 1.7514 - val_accuracy: 0.4455\n",
            "Epoch 7/50\n",
            "1463/1463 [==============================] - 4s 3ms/sample - loss: 1.6935 - accuracy: 0.4053 - val_loss: 1.6669 - val_accuracy: 0.4776\n",
            "Epoch 8/50\n",
            "1463/1463 [==============================] - 4s 3ms/sample - loss: 1.5772 - accuracy: 0.4504 - val_loss: 1.6195 - val_accuracy: 0.4744\n",
            "Epoch 9/50\n",
            "1463/1463 [==============================] - 4s 3ms/sample - loss: 1.4364 - accuracy: 0.5065 - val_loss: 1.5437 - val_accuracy: 0.5224\n",
            "Epoch 10/50\n",
            "1463/1463 [==============================] - 4s 3ms/sample - loss: 1.3441 - accuracy: 0.5338 - val_loss: 1.4778 - val_accuracy: 0.5128\n",
            "Epoch 11/50\n",
            "1463/1463 [==============================] - 4s 3ms/sample - loss: 1.2495 - accuracy: 0.5776 - val_loss: 1.4420 - val_accuracy: 0.5577\n",
            "Epoch 12/50\n",
            "1463/1463 [==============================] - 4s 3ms/sample - loss: 1.1925 - accuracy: 0.6056 - val_loss: 1.3871 - val_accuracy: 0.5577\n",
            "Epoch 13/50\n",
            "1463/1463 [==============================] - 4s 3ms/sample - loss: 1.1100 - accuracy: 0.6268 - val_loss: 1.3835 - val_accuracy: 0.5192\n",
            "Epoch 14/50\n",
            "1463/1463 [==============================] - 4s 3ms/sample - loss: 1.0433 - accuracy: 0.6521 - val_loss: 1.3318 - val_accuracy: 0.5962\n",
            "Epoch 15/50\n",
            "1463/1463 [==============================] - 4s 3ms/sample - loss: 0.9785 - accuracy: 0.6856 - val_loss: 1.2989 - val_accuracy: 0.5929\n",
            "Epoch 16/50\n",
            "1463/1463 [==============================] - 4s 3ms/sample - loss: 0.9106 - accuracy: 0.7116 - val_loss: 1.2670 - val_accuracy: 0.5962\n",
            "Epoch 17/50\n",
            "1463/1463 [==============================] - 4s 3ms/sample - loss: 0.8701 - accuracy: 0.7157 - val_loss: 1.2494 - val_accuracy: 0.5897\n",
            "Epoch 18/50\n",
            "1463/1463 [==============================] - 4s 3ms/sample - loss: 0.7997 - accuracy: 0.7437 - val_loss: 1.2195 - val_accuracy: 0.5962\n",
            "Epoch 19/50\n",
            "1463/1463 [==============================] - 4s 3ms/sample - loss: 0.7723 - accuracy: 0.7710 - val_loss: 1.1979 - val_accuracy: 0.5929\n",
            "Epoch 20/50\n",
            "1463/1463 [==============================] - 4s 3ms/sample - loss: 0.7175 - accuracy: 0.7676 - val_loss: 1.1823 - val_accuracy: 0.6154\n",
            "Epoch 21/50\n",
            "1463/1463 [==============================] - 4s 3ms/sample - loss: 0.6641 - accuracy: 0.7949 - val_loss: 1.1992 - val_accuracy: 0.6154\n",
            "Epoch 22/50\n",
            "1463/1463 [==============================] - 4s 3ms/sample - loss: 0.6249 - accuracy: 0.8072 - val_loss: 1.1681 - val_accuracy: 0.6314\n",
            "Epoch 23/50\n",
            "1463/1463 [==============================] - 4s 3ms/sample - loss: 0.5608 - accuracy: 0.8373 - val_loss: 1.1609 - val_accuracy: 0.6378\n",
            "Epoch 24/50\n",
            "1463/1463 [==============================] - 4s 3ms/sample - loss: 0.5320 - accuracy: 0.8442 - val_loss: 1.1446 - val_accuracy: 0.6282\n",
            "Epoch 25/50\n",
            "1463/1463 [==============================] - 4s 3ms/sample - loss: 0.4960 - accuracy: 0.8558 - val_loss: 1.1336 - val_accuracy: 0.6442\n",
            "Epoch 26/50\n",
            "1463/1463 [==============================] - 4s 3ms/sample - loss: 0.4648 - accuracy: 0.8640 - val_loss: 1.1280 - val_accuracy: 0.6410\n",
            "Epoch 27/50\n",
            "1463/1463 [==============================] - 4s 3ms/sample - loss: 0.4382 - accuracy: 0.8708 - val_loss: 1.1334 - val_accuracy: 0.6442\n",
            "Epoch 28/50\n",
            "1463/1463 [==============================] - 4s 3ms/sample - loss: 0.3848 - accuracy: 0.8941 - val_loss: 1.1335 - val_accuracy: 0.6346\n",
            "Epoch 29/50\n",
            "1463/1463 [==============================] - 4s 3ms/sample - loss: 0.3727 - accuracy: 0.8934 - val_loss: 1.1306 - val_accuracy: 0.6442\n",
            "Epoch 30/50\n",
            "1463/1463 [==============================] - 4s 3ms/sample - loss: 0.3578 - accuracy: 0.8995 - val_loss: 1.1258 - val_accuracy: 0.6506\n",
            "Epoch 31/50\n",
            "1463/1463 [==============================] - 4s 3ms/sample - loss: 0.3178 - accuracy: 0.9111 - val_loss: 1.1318 - val_accuracy: 0.6442\n",
            "Epoch 32/50\n",
            "1463/1463 [==============================] - 4s 3ms/sample - loss: 0.3031 - accuracy: 0.9139 - val_loss: 1.1486 - val_accuracy: 0.6506\n",
            "Epoch 33/50\n",
            "1463/1463 [==============================] - 4s 3ms/sample - loss: 0.2756 - accuracy: 0.9289 - val_loss: 1.1576 - val_accuracy: 0.6538\n",
            "Epoch 34/50\n",
            "1463/1463 [==============================] - 4s 3ms/sample - loss: 0.2659 - accuracy: 0.9357 - val_loss: 1.1784 - val_accuracy: 0.6571\n",
            "Epoch 35/50\n",
            "1463/1463 [==============================] - 4s 3ms/sample - loss: 0.2418 - accuracy: 0.9412 - val_loss: 1.1506 - val_accuracy: 0.6442\n",
            "Epoch 36/50\n",
            "1463/1463 [==============================] - 4s 3ms/sample - loss: 0.2416 - accuracy: 0.9330 - val_loss: 1.1655 - val_accuracy: 0.6538\n",
            "Epoch 37/50\n",
            "1463/1463 [==============================] - 4s 3ms/sample - loss: 0.2320 - accuracy: 0.9330 - val_loss: 1.1805 - val_accuracy: 0.6667\n",
            "Epoch 38/50\n",
            "1463/1463 [==============================] - 4s 3ms/sample - loss: 0.2029 - accuracy: 0.9440 - val_loss: 1.1628 - val_accuracy: 0.6538\n",
            "Epoch 39/50\n",
            "1463/1463 [==============================] - 4s 3ms/sample - loss: 0.1962 - accuracy: 0.9467 - val_loss: 1.1545 - val_accuracy: 0.6603\n",
            "Epoch 40/50\n",
            "1463/1463 [==============================] - 4s 3ms/sample - loss: 0.1802 - accuracy: 0.9481 - val_loss: 1.1728 - val_accuracy: 0.6603\n",
            "Epoch 41/50\n",
            "1463/1463 [==============================] - 4s 3ms/sample - loss: 0.1631 - accuracy: 0.9583 - val_loss: 1.1935 - val_accuracy: 0.6571\n",
            "Epoch 42/50\n",
            "1463/1463 [==============================] - 4s 3ms/sample - loss: 0.1669 - accuracy: 0.9583 - val_loss: 1.1755 - val_accuracy: 0.6699\n",
            "Epoch 43/50\n",
            "1463/1463 [==============================] - 4s 3ms/sample - loss: 0.1508 - accuracy: 0.9624 - val_loss: 1.1780 - val_accuracy: 0.6635\n",
            "Epoch 44/50\n",
            "1463/1463 [==============================] - 4s 3ms/sample - loss: 0.1434 - accuracy: 0.9658 - val_loss: 1.1606 - val_accuracy: 0.6891\n",
            "Epoch 45/50\n",
            "1463/1463 [==============================] - 4s 3ms/sample - loss: 0.1339 - accuracy: 0.9686 - val_loss: 1.1905 - val_accuracy: 0.6891\n",
            "Epoch 46/50\n",
            "1463/1463 [==============================] - 4s 3ms/sample - loss: 0.1295 - accuracy: 0.9727 - val_loss: 1.1841 - val_accuracy: 0.6731\n",
            "Epoch 47/50\n",
            "1463/1463 [==============================] - 4s 3ms/sample - loss: 0.1156 - accuracy: 0.9706 - val_loss: 1.2185 - val_accuracy: 0.6731\n",
            "Epoch 48/50\n",
            "1463/1463 [==============================] - 4s 3ms/sample - loss: 0.1163 - accuracy: 0.9672 - val_loss: 1.1999 - val_accuracy: 0.6827\n",
            "Epoch 49/50\n",
            "1463/1463 [==============================] - 4s 3ms/sample - loss: 0.1167 - accuracy: 0.9692 - val_loss: 1.2016 - val_accuracy: 0.6795\n",
            "Epoch 50/50\n",
            "1463/1463 [==============================] - 4s 3ms/sample - loss: 0.1150 - accuracy: 0.9699 - val_loss: 1.2014 - val_accuracy: 0.7019\n"
          ],
          "name": "stdout"
        }
      ]
    },
    {
      "cell_type": "markdown",
      "metadata": {
        "id": "rlBQU6DvrDLr",
        "colab_type": "text"
      },
      "source": [
        "## Confusion Matrix and Graphs"
      ]
    },
    {
      "cell_type": "code",
      "metadata": {
        "id": "k4W8IXHPn2_A",
        "colab_type": "code",
        "colab": {
          "base_uri": "https://localhost:8080/",
          "height": 282
        },
        "outputId": "f02650c5-31a6-4c06-c02f-dbcf8765e5bb"
      },
      "source": [
        "plt.plot(history.history['loss'], 'r')\n",
        "plt.plot(history.history['val_loss'], 'b')"
      ],
      "execution_count": 17,
      "outputs": [
        {
          "output_type": "execute_result",
          "data": {
            "text/plain": [
              "[<matplotlib.lines.Line2D at 0x7fa77a62e0f0>]"
            ]
          },
          "metadata": {
            "tags": []
          },
          "execution_count": 17
        },
        {
          "output_type": "display_data",
          "data": {
            "image/png": "[encoded data removed]",
            "text/plain": [
              "<Figure size 432x288 with 1 Axes>"
            ]
          },
          "metadata": {
            "tags": [],
            "needs_background": "light"
          }
        }
      ]
    },
    {
      "cell_type": "code",
      "metadata": {
        "id": "pY_bZ3nnnoDg",
        "colab_type": "code",
        "colab": {
          "base_uri": "https://localhost:8080/",
          "height": 283
        },
        "outputId": "eb923337-1ad2-49cc-e672-9324540cde35"
      },
      "source": [
        "plt.plot(history.history['accuracy'], 'r')\n",
        "plt.plot(history.history['val_accuracy'], 'b')"
      ],
      "execution_count": 18,
      "outputs": [
        {
          "output_type": "execute_result",
          "data": {
            "text/plain": [
              "[<matplotlib.lines.Line2D at 0x7fa77a3fbc18>]"
            ]
          },
          "metadata": {
            "tags": []
          },
          "execution_count": 18
        },
        {
          "output_type": "display_data",
          "data": {
            "image/png": "[encoded data removed]",
            "text/plain": [
              "<Figure size 432x288 with 1 Axes>"
            ]
          },
          "metadata": {
            "tags": [],
            "needs_background": "light"
          }
        }
      ]
    },
    {
      "cell_type": "code",
      "metadata": {
        "id": "K_sIf27WnqVq",
        "colab_type": "code",
        "colab": {}
      },
      "source": [
        "test_loss, test_acc = model.evaluate(X_test,  Y_test, verbose=2)\n",
        "preds = model.predict(X_test)"
      ],
      "execution_count": 19,
      "outputs": []
    },
    {
      "cell_type": "code",
      "metadata": {
        "id": "nPheqb7JnuV6",
        "colab_type": "code",
        "colab": {}
      },
      "source": [
        "yhat = np.argmax(preds,axis=1)\n",
        "cm = confusion_matrix(Y_test, yhat)"
      ],
      "execution_count": 20,
      "outputs": []
    },
    {
      "cell_type": "code",
      "metadata": {
        "id": "e-WSZIm-nwaW",
        "colab_type": "code",
        "colab": {
          "base_uri": "https://localhost:8080/",
          "height": 595
        },
        "outputId": "7b4a5afd-c6a2-4b2f-f8df-b7bb88ccc6ed"
      },
      "source": [
        "cm = cm / cm.sum(axis=1)\n",
        "\n",
        "plt.figure(figsize=(10,8))\n",
        "heatmap(cm,cmap='Blues',annot=True, fmt='.0%', xticklabels=CATEGORIES, yticklabels=CATEGORIES)\n",
        "\n",
        "plt.xlabel('Predicted label', fontsize=20)\n",
        "plt.ylabel('True label', fontsize=20)\n",
        "plt.show()"
      ],
      "execution_count": 21,
      "outputs": [
        {
          "output_type": "display_data",
          "data": {
            "image/png": "[encoded data removed]",
            "text/plain": [
              "<Figure size 720x576 with 2 Axes>"
            ]
          },
          "metadata": {
            "tags": [],
            "needs_background": "light"
          }
        }
      ]
    },
    {
      "cell_type": "code",
      "metadata": {
        "id": "F4SPcnKenyMs",
        "colab_type": "code",
        "colab": {}
      },
      "source": [
        "# Save the model locally for use later\n",
        "model_path = os.path.join('/content/drive/My Drive/snakes/trainedmodel',  'trained_VGG_modelPC2.h5')\n",
        "model.save_weights(os.path.join('/content/drive/My Drive/snakes/trainedmodel','first_tryPC2.h5'))\n",
        "model.save(model_path)"
      ],
      "execution_count": 22,
      "outputs": []
    }
  ]
}